{
 "cells": [
  {
   "cell_type": "markdown",
   "metadata": {},
   "source": [
    "# Q1. Get your basics right - Implement selection sort algorithm in python. The function accepts a\n",
    "list in the input and returns a sorted list.\n",
    "E.g.\n",
    "Input f1([5,416,54,21,6135,15,741]) should\n",
    "Return [5, 15, 21, 54, 416, 741, 6135]\n"
   ]
  },
  {
   "cell_type": "code",
   "execution_count": 1,
   "metadata": {},
   "outputs": [],
   "source": [
    "def selection_sort(lst):\n",
    "    for i in range(len(lst)):\n",
    "        min_index = i\n",
    "        for j in range(i + 1, len(lst)):\n",
    "            if lst[j] < lst[min_index]:\n",
    "                min_index = j\n",
    "        lst[i], lst[min_index] = lst[min_index], lst[i]\n",
    "    return lst\n"
   ]
  },
  {
   "cell_type": "code",
   "execution_count": 2,
   "metadata": {},
   "outputs": [
    {
     "name": "stdout",
     "output_type": "stream",
     "text": [
      "[5, 15, 21, 54, 416, 741, 6135]\n"
     ]
    }
   ],
   "source": [
    "lst = [5, 416, 54, 21, 6135, 15, 741]\n",
    "sorted_lst = selection_sort(lst)\n",
    "print(sorted_lst)\n"
   ]
  },
  {
   "cell_type": "markdown",
   "metadata": {},
   "source": [
    "# Q2. Dictionary, what?\n",
    "Write a program that returns the file type from a file name. The type of the file is determined\n",
    "from the extension. Initially, a list of values of the form \"extension,type\"(e.g. xls,spreadsheet;\n",
    "png,image) will be input.\n",
    "The program takes input in the following form:\n",
    "1. Input extension and type values in the form of a string having the following format:\n",
    "a. \"extension1,type1;extension2,type2;extension3,type3\"\n",
    "b. E.g. If we needed to input xls → spreadsheet, xlsx → spreadsheet, jpg → image\n",
    "our string would be something like: \"xls,spreadsheet;xlsx,spreadsheet;jpg,image\"\n",
    "2. Input a list of filename.extension. E.g. an input list could be something like [\"abc.html\",\n",
    "\"xyz.xls\", \"text.csv\", \"123\"]\n",
    "The program should return a dict of filename: type pairs\n",
    "E.g.\n",
    "f(\"xls,spreadsheet;xlsx,spreadsheet;jpg,image\", [\"abc.jpg\",\n",
    "\"xyz.xls\", \"text.csv\", \"123\"]) should return\n",
    "{\n",
    "\"abc.jpg\": \"image\",\n",
    "\"xyz.xls\": \"spreadsheet\",\n",
    "\"Text.csv\": \"unknown\",\n",
    "\"123\": \"unknown\"\n",
    "}\n",
    "\n"
   ]
  },
  {
   "cell_type": "markdown",
   "metadata": {},
   "source": [
    "To solve this problem, we can follow these steps:\n",
    "\n",
    "Parse the input string containing the extension and type values into a dictionary.\n",
    "Iterate over the list of filenames and extract the extension for each filename.\n",
    "Use the extracted extension to look up the corresponding file type in the dictionary.\n",
    "Store the filename and its associated file type in a dictionary.\n",
    "Return the final dictionary of filename: type pairs.\n",
    "Here's the implementation of the program in Python:"
   ]
  },
  {
   "cell_type": "code",
   "execution_count": 3,
   "metadata": {},
   "outputs": [],
   "source": [
    "def get_file_types(extension_types, filenames):\n",
    "    # Parse the extension and type values into a dictionary\n",
    "    ext_type_dict = {}\n",
    "    pairs = extension_types.split(';')\n",
    "    for pair in pairs:\n",
    "        extension, file_type = pair.split(',')\n",
    "        ext_type_dict[extension] = file_type\n",
    "\n",
    "    # Iterate over the filenames and determine the file type\n",
    "    result = {}\n",
    "    for filename in filenames:\n",
    "        # Extract the extension from the filename\n",
    "        parts = filename.split('.')\n",
    "        if len(parts) > 1:\n",
    "            extension = parts[-1]\n",
    "        else:\n",
    "            extension = ''\n",
    "\n",
    "        # Look up the file type in the dictionary\n",
    "        file_type = ext_type_dict.get(extension, 'unknown')\n",
    "        result[filename] = file_type\n",
    "\n",
    "    return result\n"
   ]
  },
  {
   "cell_type": "code",
   "execution_count": 4,
   "metadata": {},
   "outputs": [
    {
     "name": "stdout",
     "output_type": "stream",
     "text": [
      "{'abc.jpg': 'image', 'xyz.xls': 'spreadsheet', 'text.csv': 'unknown', '123': 'unknown'}\n"
     ]
    }
   ],
   "source": [
    "extension_types = \"xls,spreadsheet;xlsx,spreadsheet;jpg,image\"\n",
    "filenames = [\"abc.jpg\", \"xyz.xls\", \"text.csv\", \"123\"]\n",
    "result = get_file_types(extension_types, filenames)\n",
    "print(result)\n"
   ]
  },
  {
   "cell_type": "markdown",
   "metadata": {},
   "source": [
    "# 3. Column Sorting, yay!\n",
    "\n",
    "Given a list of dicts, write a program to sort the list according to a key given in input.\n",
    "\n",
    "E.g.\n",
    "Input f([\n",
    "{\"fruit\": \"orange\", \"color\": \"orange\"},\n",
    "{\"fruit\": \"apple\", \"color\": \"red\"},\n",
    "{\"fruit\": \"banana\", \"color\": \"yellow\"},\n",
    "{\"fruit\": \"blueberry\", \"color\": \"blue\"}\n",
    "], \"fruit\")\n",
    "\n",
    "Should Output\n",
    "\n",
    "[\n",
    "{\"fruit\": \"apple\", \"color\": \"red\"},\n",
    "{\"fruit\": \"banana\", \"color\": \"yellow\"},\n",
    "{\"fruit\": \"blueberry\", \"color\": \"blue\"},\n",
    "{\"fruit\": \"orange\", \"color\": \"orange\"}\n",
    "]\n",
    "AND\n",
    "\n",
    "Input f([\n",
    "{\"fruit\": \"orange\", \"color\": \"orange\"},\n",
    "{\"fruit\": \"apple\", \"color\": \"red\"},\n",
    "{\"fruit\": \"banana\", \"color\": \"yellow\"},\n",
    "{\"fruit\": \"blueberry\", \"color\": \"blue\"}\n",
    "], \"color\")\n",
    "\n",
    "Should Output\n",
    "\n",
    "[\n",
    "{\"fruit\": \"blueberry\", \"color\": \"blue\"},\n",
    "{\"fruit\": \"orange\", \"color\": \"orange\"},\n",
    "{\"fruit\": \"apple\", \"color\": \"red\"},\n",
    "{\"fruit\": \"banana\", \"color\": \"yellow\"}\n",
    "]\n"
   ]
  },
  {
   "cell_type": "markdown",
   "metadata": {},
   "source": [
    "To sort a list of dictionaries based on a specified key, we can use the sorted function with a custom key function. The key function will extract the value of the specified key from each dictionary for comparison during sorting.\n",
    "\n",
    "Here's the implementation of the program in Python:"
   ]
  },
  {
   "cell_type": "code",
   "execution_count": 5,
   "metadata": {},
   "outputs": [],
   "source": [
    "def sort_list_of_dicts(lst, key):\n",
    "    sorted_lst = sorted(lst, key=lambda x: x[key])\n",
    "    return sorted_lst\n"
   ]
  },
  {
   "cell_type": "code",
   "execution_count": 6,
   "metadata": {},
   "outputs": [
    {
     "name": "stdout",
     "output_type": "stream",
     "text": [
      "[{'fruit': 'apple', 'color': 'red'}, {'fruit': 'banana', 'color': 'yellow'}, {'fruit': 'blueberry', 'color': 'blue'}, {'fruit': 'orange', 'color': 'orange'}]\n"
     ]
    }
   ],
   "source": [
    "lst = [\n",
    "    {\"fruit\": \"orange\", \"color\": \"orange\"},\n",
    "    {\"fruit\": \"apple\", \"color\": \"red\"},\n",
    "    {\"fruit\": \"banana\", \"color\": \"yellow\"},\n",
    "    {\"fruit\": \"blueberry\", \"color\": \"blue\"}\n",
    "]\n",
    "key = \"fruit\"\n",
    "sorted_lst = sort_list_of_dicts(lst, key)\n",
    "print(sorted_lst)\n"
   ]
  },
  {
   "cell_type": "code",
   "execution_count": 7,
   "metadata": {},
   "outputs": [
    {
     "name": "stdout",
     "output_type": "stream",
     "text": [
      "[{'fruit': 'blueberry', 'color': 'blue'}, {'fruit': 'orange', 'color': 'orange'}, {'fruit': 'apple', 'color': 'red'}, {'fruit': 'banana', 'color': 'yellow'}]\n"
     ]
    }
   ],
   "source": [
    "lst = [\n",
    "    {\"fruit\": \"orange\", \"color\": \"orange\"},\n",
    "    {\"fruit\": \"apple\", \"color\": \"red\"},\n",
    "    {\"fruit\": \"banana\", \"color\": \"yellow\"},\n",
    "    {\"fruit\": \"blueberry\", \"color\": \"blue\"}\n",
    "]\n",
    "key = \"color\"\n",
    "sorted_lst = sort_list_of_dicts(lst, key)\n",
    "print(sorted_lst)\n"
   ]
  },
  {
   "cell_type": "markdown",
   "metadata": {},
   "source": [
    "# 4.The power of one line -\n",
    "\n",
    "Given a dictionary, switch position of key and values in the dict, i.e., value becomes the key and\n",
    "key becomes value. The function's body shouldn't have more than one statement.\n",
    "\n",
    "f({\n",
    "\"key1\": \"value1\",\n",
    "\"key2\": \"value2\",\n",
    "\"key3\": \"value3\",\n",
    "\"key4\": \"value4\",\n",
    "\"key5\": \"value5\"\n",
    "}) should return\n",
    "{\n",
    "\"value1\": \"key1\",\n",
    "\"value2\": \"key2\",\n",
    "\"value3\": \"key3\",\n",
    "\"value4\": \"key4\",\n",
    "\"value5\": \"key5\"\n",
    "}\n"
   ]
  },
  {
   "cell_type": "code",
   "execution_count": 8,
   "metadata": {},
   "outputs": [],
   "source": [
    "def switch_dict(dict_input):\n",
    "    return {value: key for key, value in dict_input.items()}\n"
   ]
  },
  {
   "cell_type": "code",
   "execution_count": 9,
   "metadata": {},
   "outputs": [
    {
     "name": "stdout",
     "output_type": "stream",
     "text": [
      "{'value1': 'key1', 'value2': 'key2', 'value3': 'key3', 'value4': 'key4', 'value5': 'key5'}\n"
     ]
    }
   ],
   "source": [
    "dict_input = {\n",
    "    \"key1\": \"value1\",\n",
    "    \"key2\": \"value2\",\n",
    "    \"key3\": \"value3\",\n",
    "    \"key4\": \"value4\",\n",
    "    \"key5\": \"value5\"\n",
    "}\n",
    "result = switch_dict(dict_input)\n",
    "print(result)\n"
   ]
  },
  {
   "cell_type": "markdown",
   "metadata": {},
   "source": [
    "# Q5. Common, Not Common\n",
    "\n",
    "Given 2 lists in input. Write a program to return the elements, which are common to both\n",
    "lists(set intersection) and those which are not common(set symmetric difference) between the\n",
    "lists.\n",
    "Input:\n",
    "    \n",
    "Mainstream = [\"One Punch Man\",\"Attack On Titan\",\"One Piece\",\"Sword\n",
    "Art Online\",\"Bleach\",\"Dragon Ball Z\",\"One Piece\"]\n",
    "must_watch = [\"Full Metal Alchemist\",\"Code Geass\",\"Death\n",
    "Note\",\"Stein's Gate\",\"The Devil is a Part Timer!\",\"One Piece\",\"Attack\n",
    "On Titan\"]\n",
    "              \n",
    "f(mainstream, must_watch) should return:\n",
    "[\"One Piece\", \"Attack On Titan\"], [\"Dragon Ball Z\", \"Death Note\",\n",
    "\"One Punch Man\", \"Stein's Gate\", \"The Devil is a Part Timer!\", \"Sword\n",
    "Art Online\",\"Full Metal Alchemist\",\"'Bleach\", \"Code Geass\"]"
   ]
  },
  {
   "cell_type": "code",
   "execution_count": 10,
   "metadata": {},
   "outputs": [],
   "source": [
    "def find_common_and_uncommon(list1, list2):\n",
    "    set1 = set(list1)\n",
    "    set2 = set(list2)\n",
    "    \n",
    "    common = list(set1 & set2)\n",
    "    uncommon = list(set1 ^ set2)\n",
    "    \n",
    "    return common, uncommon\n"
   ]
  },
  {
   "cell_type": "code",
   "execution_count": 11,
   "metadata": {},
   "outputs": [
    {
     "name": "stdout",
     "output_type": "stream",
     "text": [
      "['Attack On Titan', 'One Piece']\n",
      "['One Punch Man', 'Full Metal Alchemist', 'The Devil is a Part Timer!', 'Death Note', \"Stein's Gate\", 'Sword Art Online', 'Dragon Ball Z', 'Code Geass', 'Bleach']\n"
     ]
    }
   ],
   "source": [
    "Mainstream = [\"One Punch Man\", \"Attack On Titan\", \"One Piece\", \"Sword Art Online\", \"Bleach\", \"Dragon Ball Z\", \"One Piece\"]\n",
    "must_watch = [\"Full Metal Alchemist\", \"Code Geass\", \"Death Note\", \"Stein's Gate\", \"The Devil is a Part Timer!\", \"One Piece\", \"Attack On Titan\"]\n",
    "\n",
    "common, uncommon = find_common_and_uncommon(Mainstream, must_watch)\n",
    "print(common)\n",
    "print(uncommon)\n"
   ]
  },
  {
   "cell_type": "markdown",
   "metadata": {},
   "source": [
    "# Q6. Every other sub-list\n",
    "\n",
    "Given a list and 2 indices as input, return the sub-list enclosed within these 2 indices. It should\n",
    "contain every second element.\n",
    "\n",
    "E.g.\n",
    "Input f([2,3,5,7,11,13,17,19,23,29,31,37,41], 2, 9)\n",
    "Return [5, 11, 17, 23]"
   ]
  },
  {
   "cell_type": "code",
   "execution_count": 12,
   "metadata": {},
   "outputs": [],
   "source": [
    "def extract_sublist(lst, start_index, end_index):\n",
    "    sub_list = lst[start_index:end_index:2]\n",
    "    return sub_list"
   ]
  },
  {
   "cell_type": "code",
   "execution_count": 13,
   "metadata": {},
   "outputs": [
    {
     "name": "stdout",
     "output_type": "stream",
     "text": [
      "[5, 11, 17, 23]\n"
     ]
    }
   ],
   "source": [
    "lst = [2, 3, 5, 7, 11, 13, 17, 19, 23, 29, 31, 37, 41]\n",
    "start_index = 2\n",
    "end_index = 9\n",
    "\n",
    "result = extract_sublist(lst, start_index, end_index)\n",
    "print(result)"
   ]
  },
  {
   "cell_type": "markdown",
   "metadata": {},
   "source": [
    "# Q7. Calculate the factorial of a number using lambda function."
   ]
  },
  {
   "cell_type": "code",
   "execution_count": 14,
   "metadata": {},
   "outputs": [],
   "source": [
    "factorial = lambda n: 1 if n == 0 else n * factorial(n - 1)\n"
   ]
  },
  {
   "cell_type": "code",
   "execution_count": 16,
   "metadata": {},
   "outputs": [
    {
     "name": "stdout",
     "output_type": "stream",
     "text": [
      "120\n"
     ]
    }
   ],
   "source": [
    "number = 5\n",
    "result = factorial(number)\n",
    "print(result)\n"
   ]
  },
  {
   "cell_type": "markdown",
   "metadata": {},
   "source": [
    "# Q8. Some neat tricks up her sleeve:\n",
    "    \n",
    "Looking at the below code, write down the final values of A0, A1, ...An\n",
    "\n",
    "A0 = dict(zip(('a','b','c','d','e'),(1,2,3,4,5)))\n",
    "A1 = range(10)\n",
    "A2 = sorted([i for i in A1 if i in A0])\n",
    "A3 = sorted([A0[s] for s in A0])\n",
    "A4 = [i for i in A1 if i in A3]\n",
    "A5 = {i:i*i for i in A1}\n",
    "A6 = [[i,i*i] for i in A1]\n",
    "A7 = reduce(lambda x,y: x+y, [10,23, -45, 33])\n",
    "A8 = map(lambda x: x*2, [1,2,3,4])\n",
    "A9 = filter(lambda x: len(x) >3, [“I” , “want”, “to”, “learn”, “python”])\n"
   ]
  },
  {
   "cell_type": "code",
   "execution_count": 32,
   "metadata": {},
   "outputs": [],
   "source": [
    "A0 = dict(zip(('a','b','c','d','e'),(1,2,3,4,5)))\n"
   ]
  },
  {
   "cell_type": "code",
   "execution_count": 33,
   "metadata": {},
   "outputs": [
    {
     "data": {
      "text/plain": [
       "{'a': 1, 'b': 2, 'c': 3, 'd': 4, 'e': 5}"
      ]
     },
     "execution_count": 33,
     "metadata": {},
     "output_type": "execute_result"
    }
   ],
   "source": [
    "A0"
   ]
  },
  {
   "cell_type": "code",
   "execution_count": 42,
   "metadata": {},
   "outputs": [],
   "source": [
    "import numpy as np"
   ]
  },
  {
   "cell_type": "code",
   "execution_count": 43,
   "metadata": {},
   "outputs": [
    {
     "data": {
      "text/plain": [
       "array([0, 1, 2, 3, 4, 5, 6, 7, 8, 9])"
      ]
     },
     "execution_count": 43,
     "metadata": {},
     "output_type": "execute_result"
    }
   ],
   "source": [
    "A = np.arange(10)\n",
    "A"
   ]
  },
  {
   "cell_type": "code",
   "execution_count": 49,
   "metadata": {},
   "outputs": [
    {
     "data": {
      "text/plain": [
       "[1, 2, 3, 4, 5]"
      ]
     },
     "execution_count": 49,
     "metadata": {},
     "output_type": "execute_result"
    }
   ],
   "source": [
    "A2 = sorted([i for i in A if i in A0.values()])\n",
    "A2"
   ]
  },
  {
   "cell_type": "code",
   "execution_count": 38,
   "metadata": {},
   "outputs": [
    {
     "data": {
      "text/plain": [
       "[1, 2, 3, 4, 5]"
      ]
     },
     "execution_count": 38,
     "metadata": {},
     "output_type": "execute_result"
    }
   ],
   "source": [
    "A3 = sorted([A0[s] for s in A0])\n",
    "A3"
   ]
  },
  {
   "cell_type": "code",
   "execution_count": 39,
   "metadata": {},
   "outputs": [
    {
     "data": {
      "text/plain": [
       "[1, 2, 3, 4, 5]"
      ]
     },
     "execution_count": 39,
     "metadata": {},
     "output_type": "execute_result"
    }
   ],
   "source": [
    "A4 = [i for i in A1 if i in A3]\n",
    "A4"
   ]
  },
  {
   "cell_type": "code",
   "execution_count": 40,
   "metadata": {},
   "outputs": [
    {
     "data": {
      "text/plain": [
       "{0: 0, 1: 1, 2: 4, 3: 9, 4: 16, 5: 25, 6: 36, 7: 49, 8: 64, 9: 81}"
      ]
     },
     "execution_count": 40,
     "metadata": {},
     "output_type": "execute_result"
    }
   ],
   "source": [
    "A5 = {i: i*i for i in A1}\n",
    "A5"
   ]
  },
  {
   "cell_type": "code",
   "execution_count": 41,
   "metadata": {},
   "outputs": [
    {
     "data": {
      "text/plain": [
       "[[0, 0],\n",
       " [1, 1],\n",
       " [2, 4],\n",
       " [3, 9],\n",
       " [4, 16],\n",
       " [5, 25],\n",
       " [6, 36],\n",
       " [7, 49],\n",
       " [8, 64],\n",
       " [9, 81]]"
      ]
     },
     "execution_count": 41,
     "metadata": {},
     "output_type": "execute_result"
    }
   ],
   "source": [
    "A6 = [[i, i*i] for i in A1]\n",
    "A6"
   ]
  },
  {
   "cell_type": "code",
   "execution_count": 54,
   "metadata": {},
   "outputs": [
    {
     "data": {
      "text/plain": [
       "21"
      ]
     },
     "execution_count": 54,
     "metadata": {},
     "output_type": "execute_result"
    }
   ],
   "source": [
    "import functools\n",
    "A7 = functools.reduce(lambda x, y: x + y, [10, 23, -45, 33])\n",
    "A7"
   ]
  },
  {
   "cell_type": "code",
   "execution_count": 58,
   "metadata": {},
   "outputs": [
    {
     "data": {
      "text/plain": [
       "[2, 4, 6, 8]"
      ]
     },
     "execution_count": 58,
     "metadata": {},
     "output_type": "execute_result"
    }
   ],
   "source": [
    "A8 = map(lambda x: x*2, [1, 2, 3, 4])\n",
    "list(A8)"
   ]
  },
  {
   "cell_type": "markdown",
   "metadata": {},
   "source": [
    "# So, the final values are:\n",
    "\n",
    "A0: {'a': 1, 'b': 2, 'c': 3, 'd': 4, 'e': 5}\n",
    "A1: range(0, 10)\n",
    "A2: [1, 2, 3, 4, 5]\n",
    "A3: [1, 2, 3, 4, 5]\n",
    "A4: [1, 2, 3, 4, 5]\n",
    "A5: {0: 0, 1: 1, 2: 4, 3: 9, 4: 16, 5: 25, 6: 36, 7: 49, 8: 64, 9: 81}\n",
    "A6: [[0, 0], [1, 1], [2, 4], [3, 9], [4, 16], [5, 25], [6, 36], [7, 49], [8, 64], [9, 81]]\n",
    "A7: 21\n",
    "A8: [2, 4, 6, 8]\n",
    "A9: ['want', 'learn', 'python']"
   ]
  },
  {
   "cell_type": "markdown",
   "metadata": {},
   "source": [
    "# Q9.\n",
    "Write a func that takes 3 args:\n",
    "from_date - string representing a date in the form of 'yy-mm-dd'\n",
    "to_date - string representing a date in the form of 'yy-mm-dd'\n",
    "difference - int\n",
    "Returns True if from_date and to_date are less than difference days away from each other, else\n",
    "returns False.\n"
   ]
  },
  {
   "cell_type": "code",
   "execution_count": 59,
   "metadata": {},
   "outputs": [],
   "source": [
    "from datetime import datetime, timedelta\n",
    "\n",
    "def check_date_difference(from_date, to_date, difference):\n",
    "    # Convert the date strings to datetime objects\n",
    "    from_datetime = datetime.strptime(from_date, '%y-%m-%d')\n",
    "    to_datetime = datetime.strptime(to_date, '%y-%m-%d')\n",
    "    \n",
    "    # Calculate the difference between the dates\n",
    "    date_difference = to_datetime - from_datetime\n",
    "    \n",
    "    # Check if the difference is less than the specified number of days\n",
    "    if date_difference < timedelta(days=difference):\n",
    "        return True\n",
    "    else:\n",
    "        return False\n"
   ]
  },
  {
   "cell_type": "code",
   "execution_count": 60,
   "metadata": {},
   "outputs": [
    {
     "name": "stdout",
     "output_type": "stream",
     "text": [
      "True\n",
      "False\n"
     ]
    }
   ],
   "source": [
    "from_date = '21-01-01'\n",
    "to_date = '21-01-15'\n",
    "difference = 20\n",
    "\n",
    "result = check_date_difference(from_date, to_date, difference)\n",
    "print(result)  # Output: True\n",
    "\n",
    "from_date = '21-01-01'\n",
    "to_date = '21-01-15'\n",
    "difference = 10\n",
    "\n",
    "result = check_date_difference(from_date, to_date, difference)\n",
    "print(result)  # Output: False\n"
   ]
  },
  {
   "cell_type": "markdown",
   "metadata": {},
   "source": [
    "In the above examples, the function checks if the difference between the from_date and to_date is less than the specified difference in days. The function returns True if the difference is less and False otherwise."
   ]
  },
  {
   "cell_type": "markdown",
   "metadata": {},
   "source": [
    "# Q10. Of date and days\n",
    "Write a func that takes 2 args:\n",
    "date - string representing a date in the form of 'yy-mm-dd'\n",
    "n - integer\n",
    "Returns the string representation of date n days before 'date'\n",
    "E.g. f('16-12-10', 11) should return '16-11-29'"
   ]
  },
  {
   "cell_type": "code",
   "execution_count": 61,
   "metadata": {},
   "outputs": [],
   "source": [
    "from datetime import datetime, timedelta\n",
    "\n",
    "def calculate_previous_date(date, n):\n",
    "    # Convert the date string to a datetime object\n",
    "    date_obj = datetime.strptime(date, '%y-%m-%d')\n",
    "    \n",
    "    # Calculate the previous date by subtracting n days\n",
    "    previous_date = date_obj - timedelta(days=n)\n",
    "    \n",
    "    # Convert the datetime object back to a string representation\n",
    "    previous_date_str = previous_date.strftime('%y-%m-%d')\n",
    "    \n",
    "    return previous_date_str\n"
   ]
  },
  {
   "cell_type": "code",
   "execution_count": 62,
   "metadata": {},
   "outputs": [
    {
     "name": "stdout",
     "output_type": "stream",
     "text": [
      "16-11-29\n"
     ]
    }
   ],
   "source": [
    "date = '16-12-10'\n",
    "n = 11\n",
    "\n",
    "result = calculate_previous_date(date, n)\n",
    "print(result)  # Output: '16-11-29'\n"
   ]
  },
  {
   "cell_type": "markdown",
   "metadata": {},
   "source": [
    "In the above example, the function calculates the date that is n days before the given date. The function returns the string representation of the calculated previous date.\n",
    "\n",
    "Please note that the function assumes the input date format is always 'yy-mm-dd' and the output date format will also be 'yy-mm-dd'."
   ]
  },
  {
   "cell_type": "markdown",
   "metadata": {},
   "source": [
    "# Q11. Something fishy there -\n",
    "Find output of following:\n",
    "def f(x,l=[]):\n",
    "for i in range(x):\n",
    "l.append(i*i)\n",
    "print(l)\n",
    "f(2)\n",
    "f(3,[3,2,1])\n",
    "f(3)"
   ]
  },
  {
   "cell_type": "code",
   "execution_count": 72,
   "metadata": {},
   "outputs": [
    {
     "name": "stdout",
     "output_type": "stream",
     "text": [
      "[0, 1]\n"
     ]
    }
   ],
   "source": [
    "def fishy(x, l1=[]):\n",
    "    for i in range(x):\n",
    "        l1.append(i*i)\n",
    "    print(l1)\n",
    "\n",
    "fishy(2)\n"
   ]
  },
  {
   "cell_type": "code",
   "execution_count": 73,
   "metadata": {},
   "outputs": [
    {
     "name": "stdout",
     "output_type": "stream",
     "text": [
      "[3, 2, 1, 0, 1, 4]\n"
     ]
    }
   ],
   "source": [
    "fishy(3, [3, 2, 1])\n"
   ]
  },
  {
   "cell_type": "code",
   "execution_count": 74,
   "metadata": {},
   "outputs": [
    {
     "name": "stdout",
     "output_type": "stream",
     "text": [
      "[0, 1, 0, 1, 4]\n"
     ]
    }
   ],
   "source": [
    "fishy(3)\n"
   ]
  },
  {
   "cell_type": "code",
   "execution_count": null,
   "metadata": {},
   "outputs": [],
   "source": []
  }
 ],
 "metadata": {
  "kernelspec": {
   "display_name": "Python 3",
   "language": "python",
   "name": "python3"
  },
  "language_info": {
   "codemirror_mode": {
    "name": "ipython",
    "version": 3
   },
   "file_extension": ".py",
   "mimetype": "text/x-python",
   "name": "python",
   "nbconvert_exporter": "python",
   "pygments_lexer": "ipython3",
   "version": "3.8.5"
  }
 },
 "nbformat": 4,
 "nbformat_minor": 4
}
